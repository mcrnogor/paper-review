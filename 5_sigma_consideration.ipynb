{
 "cells": [
  {
   "cell_type": "code",
   "execution_count": 1,
   "metadata": {},
   "outputs": [],
   "source": [
    "# importing general packages\n",
    "\n",
    "import numpy as np\n",
    "import os, sys\n",
    "import matplotlib.pyplot as plt\n",
    "\n",
    "# importing XSPEC\n",
    "\n",
    "import xspec as xs\n",
    "xs.Xset.allowPrompting = False #keeps pyxspec from hanging, waiting a response to a prompt\n",
    "xs.Xset.allowNewAttributes = True\n",
    "\n",
    "# importing fits \n",
    "\n",
    "from astropy.io import fits\n",
    "\n",
    "plt.rcParams['text.usetex'] = True\n",
    "plt.rcParams['text.latex.unicode'] = True\n",
    "plt.rcParams['mathtext.rm'] = 'Times New Roman'\n",
    "plt.rcParams['mathtext.it'] = 'Times New Roman:italic'\n",
    "plt.rcParams['mathtext.bf'] = 'Times New Roman:bold'\n",
    "\n",
    "plt.rc('font', family='serif', size=20)\n",
    "plt.rcParams['xtick.labelsize'] = 18\n",
    "plt.rcParams['ytick.labelsize'] = 18\n",
    "plt.rcParams['xtick.major.size'] = 5\n",
    "plt.rcParams['ytick.major.size'] = 5\n",
    "\n",
    "%matplotlib inline"
   ]
  },
  {
   "cell_type": "markdown",
   "metadata": {},
   "source": [
    "### Considering the number of counts from the background"
   ]
  },
  {
   "cell_type": "code",
   "execution_count": 13,
   "metadata": {},
   "outputs": [
    {
     "name": "stdout",
     "output_type": "stream",
     "text": [
      "\n",
      "User entered plot commands:\n"
     ]
    }
   ],
   "source": [
    "# Now, let's obtain the background spectrum \n",
    "\n",
    "xs.AllData.clear()\n",
    "average = xs.Spectrum(\"bn121225417_LAT-LLE_bkgspectra.bak{1}\")\n",
    "average.response = \"bn121225417_LAT-LLE_weightedrsp.rsp\"\n",
    "\n",
    "xs.AllModels.clear()\n",
    "m=xs.Model(\"pow\")\n",
    "xs.Fit.perform()\n",
    "\n",
    "xs.Plot.device=\"/xs\"\n",
    "xs.Plot.xAxis=\"MeV\"\n",
    "xs.Plot.add=True\n",
    "xs.Plot.background=True\n",
    "xs.Plot.xLog=True\n",
    "xs.Plot.yLog=True\n",
    "xs.Plot.show()\n",
    "xs.Plot(\"ufspec\") # this is unfolded spectrum\n",
    "\n",
    "bkgX_average_uf= xs.Plot.x(1)\n",
    "bkgY_average_uf = xs.Plot.y(1)\n",
    "bkgXErrs_average_uf = xs.Plot.xErr(1)\n",
    "bkgYErrs_average_uf = xs.Plot.yErr(1)"
   ]
  },
  {
   "cell_type": "code",
   "execution_count": 14,
   "metadata": {},
   "outputs": [
    {
     "name": "stderr",
     "output_type": "stream",
     "text": [
      "/Users/milena/anaconda2/lib/python2.7/site-packages/matplotlib/axes/_base.py:3157: UserWarning: Attempted to set non-positive xlimits for log-scale axis; invalid limits will be ignored.\n",
      "  'Attempted to set non-positive xlimits for log-scale axis; '\n"
     ]
    },
    {
     "data": {
      "image/png": "[encoded data removed]",
      "text/plain": [
       "<Figure size 432x288 with 1 Axes>"
      ]
     },
     "metadata": {
      "needs_background": "light"
     },
     "output_type": "display_data"
    }
   ],
   "source": [
    "plt.errorbar(bkgX_average_uf, bkgY_average_uf, xerr = bkgXErrs_average_uf, yerr = bkgYErrs_average_uf, ls='none', color='b', label='unfolded')\n",
    "plt.xlabel('Energy, MeV', fontsize=18)\n",
    "plt.ylabel('photons cm$^{-2}$ s$^{-1}$ MeV$^{-1}$ ', fontsize=18)\n",
    "plt.yscale('log')\n",
    "plt.xscale('log')\n",
    "plt.xlim(0, 5e2)\n",
    "plt.legend()\n",
    "plt.tight_layout()\n",
    "plt.show()"
   ]
  },
  {
   "cell_type": "code",
   "execution_count": 4,
   "metadata": {},
   "outputs": [
    {
     "name": "stdout",
     "output_type": "stream",
     "text": [
      "[48.0661640625, 57.788240234375, 69.47674609375, 83.529421875, 100.424453125, 120.73674609375, 145.1574921875, 174.5176953125]\n"
     ]
    }
   ],
   "source": [
    "eff_area_LLE = 10000. # assume the constant number for E0 ~ 10 to E1 ~ 300\n",
    "delta_t = 25. # seconds\n",
    "energy = bkgX_average_uf # energy array from the XSPEC plot\n",
    "bkg_flux = bkgY_average_uf # unfolded background flux from XSPEC\n",
    "print energy[8:16]"
   ]
  },
  {
   "cell_type": "code",
   "execution_count": 5,
   "metadata": {},
   "outputs": [],
   "source": [
    "from scipy import integrate\n",
    "bkg_counts = integrate.simps(bkg_flux[8:16], energy[8:16])*delta_t*eff_area_LLE"
   ]
  },
  {
   "cell_type": "code",
   "execution_count": 6,
   "metadata": {},
   "outputs": [
    {
     "name": "stdout",
     "output_type": "stream",
     "text": [
      "137.11166977154062\n"
     ]
    }
   ],
   "source": [
    "print bkg_counts"
   ]
  },
  {
   "cell_type": "markdown",
   "metadata": {},
   "source": [
    "### Considering the number of counts in the ALP signal"
   ]
  },
  {
   "cell_type": "code",
   "execution_count": 7,
   "metadata": {},
   "outputs": [],
   "source": [
    "N = 1.61e-02 # cm^-2, normalization for the median background\n",
    "SED10 = np.load('bn121225417_SED10.npy') \n",
    "SED10_norm = SED10*N"
   ]
  },
  {
   "cell_type": "code",
   "execution_count": 8,
   "metadata": {},
   "outputs": [
    {
     "data": {
      "text/plain": [
       "<matplotlib.legend.Legend at 0x7fe9b2e01410>"
      ]
     },
     "execution_count": 8,
     "metadata": {},
     "output_type": "execute_result"
    },
    {
     "data": {
      "image/png": "[encoded data removed]",
      "text/plain": [
       "<Figure size 432x288 with 1 Axes>"
      ]
     },
     "metadata": {
      "needs_background": "light"
     },
     "output_type": "display_data"
    }
   ],
   "source": [
    "plt.plot(energy, SED10_norm, label='Normalized signal')\n",
    "plt.xlabel('Energy, MeV')\n",
    "plt.ylabel('photons cm$^{-2}$ s$^{-1}$ MeV$^{-1}$ ')\n",
    "plt.xscale('log')\n",
    "plt.grid()\n",
    "plt.legend()"
   ]
  },
  {
   "cell_type": "code",
   "execution_count": 9,
   "metadata": {},
   "outputs": [],
   "source": [
    "signal_counts = integrate.simps(SED10_norm[8:16], energy[8:16])*delta_t*eff_area_LLE"
   ]
  },
  {
   "cell_type": "code",
   "execution_count": 10,
   "metadata": {},
   "outputs": [
    {
     "name": "stdout",
     "output_type": "stream",
     "text": [
      "32.49477334387733\n"
     ]
    }
   ],
   "source": [
    "print signal_counts"
   ]
  },
  {
   "cell_type": "code",
   "execution_count": 12,
   "metadata": {},
   "outputs": [
    {
     "data": {
      "text/plain": [
       "5.700418698997235"
      ]
     },
     "execution_count": 12,
     "metadata": {},
     "output_type": "execute_result"
    }
   ],
   "source": [
    "np.sqrt(signal_counts) "
   ]
  },
  {
   "cell_type": "code",
   "execution_count": null,
   "metadata": {},
   "outputs": [],
   "source": []
  }
 ],
 "metadata": {
  "kernelspec": {
   "display_name": "Python 2",
   "language": "python",
   "name": "python2"
  },
  "language_info": {
   "codemirror_mode": {
    "name": "ipython",
    "version": 2
   },
   "file_extension": ".py",
   "mimetype": "text/x-python",
   "name": "python",
   "nbconvert_exporter": "python",
   "pygments_lexer": "ipython2",
   "version": "2.7.15"
  }
 },
 "nbformat": 4,
 "nbformat_minor": 2
}
