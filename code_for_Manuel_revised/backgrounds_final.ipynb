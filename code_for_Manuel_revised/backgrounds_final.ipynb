{
 "cells": [
  {
   "cell_type": "markdown",
   "metadata": {},
   "source": [
    "### Checking the XSPEC background output\n",
    "\n",
    "This notebook is addressing the issue of folded vs. unfolded background spectra. "
   ]
  },
  {
   "cell_type": "code",
   "execution_count": 1,
   "metadata": {},
   "outputs": [],
   "source": [
    "# importing general packages\n",
    "\n",
    "import numpy as np\n",
    "import os, sys\n",
    "import matplotlib.pyplot as plt\n",
    "\n",
    "import xspec as xs\n",
    "xs.Xset.allowPrompting = False #keeps pyxspec from hanging, waiting a response to a prompt\n",
    "xs.Xset.allowNewAttributes = True"
   ]
  },
  {
   "cell_type": "code",
   "execution_count": 2,
   "metadata": {},
   "outputs": [
    {
     "name": "stdout",
     "output_type": "stream",
     "text": [
      "\n",
      "User entered plot commands:\n"
     ]
    }
   ],
   "source": [
    "# What does the  unfolded spectrum look like from XSPEC? (Note that this is model dependent, but background is \n",
    "# well fit by power law, and the differences minimal + it still indicates the level on the order \n",
    "# of magnitude consideration)\n",
    "\n",
    "xs.AllData.clear()\n",
    "average = xs.Spectrum(\"bn121225417_LAT-LLE_bkgspectra.bak{1}\")\n",
    "average.response = \"bn121225417_LAT-LLE_weightedrsp.rsp\"\n",
    "\n",
    "xs.AllModels.clear()\n",
    "m=xs.Model(\"pow\")\n",
    "xs.Fit.perform()\n",
    "\n",
    "xs.Plot.device=\"/xs\"\n",
    "xs.Plot.xAxis=\"MeV\"\n",
    "xs.Plot.add=True\n",
    "xs.Plot.background=True\n",
    "xs.Plot.xLog=True\n",
    "xs.Plot.yLog=True\n",
    "xs.Plot.show()\n",
    "xs.Plot(\"ufspec\") # this is unfolded spectrum\n",
    "\n",
    "x_average_uf= xs.Plot.x(1)\n",
    "y_average_uf = xs.Plot.y(1)\n",
    "xErrs_average_uf = xs.Plot.xErr(1)\n",
    "yErrs_average_uf = xs.Plot.yErr(1)"
   ]
  },
  {
   "cell_type": "code",
   "execution_count": 3,
   "metadata": {},
   "outputs": [
    {
     "name": "stdout",
     "output_type": "stream",
     "text": [
      "\n",
      "User entered plot commands:\n"
     ]
    }
   ],
   "source": [
    "xs.Plot.device=\"/xs\"\n",
    "xs.Plot.xAxis=\"MeV\"\n",
    "xs.Plot.add=True\n",
    "xs.Plot.background=True\n",
    "xs.Plot.xLog=True\n",
    "xs.Plot.yLog=True\n",
    "xs.Plot.show()\n",
    "xs.Plot(\"data\") # this is folded spectrum \n",
    "\n",
    "x_average= xs.Plot.x(1)\n",
    "y_average = xs.Plot.y(1)\n",
    "xErrs_average = xs.Plot.xErr(1)\n",
    "yErrs_average = xs.Plot.yErr(1)"
   ]
  },
  {
   "cell_type": "code",
   "execution_count": 4,
   "metadata": {},
   "outputs": [
    {
     "data": {
      "image/png": "[encoded data removed]",
      "text/plain": [
       "<Figure size 432x288 with 2 Axes>"
      ]
     },
     "metadata": {
      "needs_background": "light"
     },
     "output_type": "display_data"
    }
   ],
   "source": [
    "fig, ax1 = plt.subplots()\n",
    "ax1.errorbar(x_average_uf, y_average_uf, xerr = xErrs_average_uf, yerr = yErrs_average_uf, ls='none', color='b', label='unfolded')\n",
    "ax1.set_xlabel('Energy, MeV')\n",
    "ax1.set_ylabel('photons cm$^{-2}$ s$^{-1}$ MeV$^{-1}$ ', color='b')\n",
    "ax1.tick_params('y', colors='b')\n",
    "ax1.set_yscale('log')\n",
    "\n",
    "\n",
    "ax2 = ax1.twinx()\n",
    "ax2.errorbar(x_average, y_average, xerr = xErrs_average, yerr = yErrs_average, ls='none', color='r', label='folded')\n",
    "ax2.set_ylabel('counts s$^{-1}$ MeV$^{-1}$', color='r')\n",
    "ax2.tick_params('y', colors='r')\n",
    "ax2.set_yscale('log')\n",
    "\n",
    "plt.xlim(0, 5e2)\n",
    "fig.legend(loc=(0.65,0.8))\n",
    "fig.tight_layout()\n",
    "#plt.savefig('old_new_bkg.pdf')\n",
    "plt.show()\n",
    "\n"
   ]
  }
 ],
 "metadata": {
  "kernelspec": {
   "display_name": "Python 2",
   "language": "python",
   "name": "python2"
  },
  "language_info": {
   "codemirror_mode": {
    "name": "ipython",
    "version": 2
   },
   "file_extension": ".py",
   "mimetype": "text/x-python",
   "name": "python",
   "nbconvert_exporter": "python",
   "pygments_lexer": "ipython2",
   "version": "2.7.15"
  }
 },
 "nbformat": 4,
 "nbformat_minor": 2
}
