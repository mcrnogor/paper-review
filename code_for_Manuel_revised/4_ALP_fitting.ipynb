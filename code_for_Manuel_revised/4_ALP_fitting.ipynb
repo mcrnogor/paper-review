{
 "cells": [
  {
   "cell_type": "markdown",
   "metadata": {},
   "source": [
    "### ALP spectral fitting\n",
    "\n",
    "This notebook is fitting the ALP model to the simulated spectra. The first three cells are the same as in the previous notebook.  "
   ]
  },
  {
   "cell_type": "code",
   "execution_count": 1,
   "metadata": {},
   "outputs": [],
   "source": [
    "# importing general packages\n",
    "\n",
    "import numpy as np\n",
    "import os, sys\n",
    "import matplotlib.pyplot as plt\n",
    "\n",
    "import xspec as xs\n",
    "xs.Xset.allowPrompting = False #keeps pyxspec from hanging, waiting a response to a prompt\n",
    "xs.Xset.allowNewAttributes = True"
   ]
  },
  {
   "cell_type": "code",
   "execution_count": 2,
   "metadata": {},
   "outputs": [],
   "source": [
    "# The units for the model need to be given per bin. Number of bins determined by the \n",
    "# input LLE background spectrum.\n",
    "\n",
    "from astropy.io import fits\n",
    "\n",
    "hdu = fits.open(\"bn121225417_LAT-LLE_bkgspectra.bak\")\n",
    "energy = hdu[2].data # this holds energies corresponding to bin ends, in keV\n",
    "E_MeV_diff = ((energy['E_MAX'] - energy['E_MIN']))/1000. # bin sizes, in MeV\n",
    "nBins = len(E_MeV_diff)\n",
    "# print E_MeV_diff"
   ]
  },
  {
   "cell_type": "code",
   "execution_count": 3,
   "metadata": {},
   "outputs": [],
   "source": [
    "SED10 = np.load('bn121225417_SED10.npy') \n",
    "\n",
    "def ALP(engs, params, flux):\n",
    "    norm1 = params[0]\n",
    "    flux[:] = norm1 * SED10[:]*E_MeV_diff/nBins \n",
    "    # print(len(flux), len(engs)) # these two have to be the same\n",
    "        \n",
    "ALPInfo = (\"norm1 \\\"\\\" 1.1  1e-12  1e-10 1e10 1e12 0.0001\",)\n",
    "xs.AllModels.addPyMod(ALP, ALPInfo, 'add', spectrumDependent=True)"
   ]
  },
  {
   "cell_type": "code",
   "execution_count": 4,
   "metadata": {},
   "outputs": [],
   "source": [
    "# normalizations, coarse grid\n",
    "N = np.logspace(np.log10(8.4e-8), np.log10(8.4e2), 30)\n",
    "\n",
    "normALP = np.zeros((30,2001))\n",
    "chi_stat = np.zeros((30,2001))\n",
    "Fit_st = np.zeros((30,2001))\n",
    "\n",
    "xs.AllData.clear()   # clear all data, if any.\n",
    "\n",
    "for j in range(30):\n",
    "    for i in range(1,2001):\n",
    "        xs.AllData.clear()\n",
    "        s=xs.Spectrum(\"bn121225417_ALP%s_bkg.fak{%s}\" %(j,i)) \n",
    "        s.response = \"bn121225417_LAT-LLE_weightedrsp.rsp\"\n",
    "        s.background= (\"bn121225417_LAT-LLE_bkgspectra.bak{1}\")\n",
    "        xs.AllModels.clear()\n",
    "        m=xs.Model(\"ALP\")\n",
    "        xs.Fit.statMethod = \"pgstat\"\n",
    "        m.ALP.norm1.values=1.\n",
    "        m.ALP.norm1.frozen = True\n",
    "        #List of value floats [val,delta,min,bot,top,max].\n",
    "        #m.ALP.norm.values=[N[j], N[j]*0.1, N[j]*0.1, N[j]*0.95, N[j]*1.05, N[j]*1.95]\n",
    "        m.ALP.norm.frozen = False\n",
    "        xs.Fit.perform()\n",
    "        normALP[j,i] = m.ALP.norm.values[0]\n",
    "        chi_stat[j,i] = xs.Fit.testStatistic\n",
    "        Fit_st[j,i] = xs.Fit.statistic\n",
    "        \n",
    "np.save('TS_pgfit_ALP.npy', chi_stat)\n",
    "np.save('pgfit_ALP.npy', Fit_st)\n",
    "np.save('norm_ALP.npy', normALP)       "
   ]
  },
  {
   "cell_type": "code",
   "execution_count": null,
   "metadata": {},
   "outputs": [],
   "source": []
  }
 ],
 "metadata": {
  "kernelspec": {
   "display_name": "Python 2",
   "language": "python",
   "name": "python2"
  },
  "language_info": {
   "codemirror_mode": {
    "name": "ipython",
    "version": 2
   },
   "file_extension": ".py",
   "mimetype": "text/x-python",
   "name": "python",
   "nbconvert_exporter": "python",
   "pygments_lexer": "ipython2",
   "version": "2.7.15"
  }
 },
 "nbformat": 4,
 "nbformat_minor": 2
}
