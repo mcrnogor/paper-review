{
 "cells": [
  {
   "cell_type": "markdown",
   "metadata": {},
   "source": [
    "### Fitting the Zero model\n",
    "\n",
    "This is a notebook with the zero model fitting. The process is analogous with the previous notebook, except we now define a zero model instad of the ALP model. "
   ]
  },
  {
   "cell_type": "code",
   "execution_count": 1,
   "metadata": {},
   "outputs": [],
   "source": [
    "# importing general packages\n",
    "\n",
    "import numpy as np\n",
    "import os, sys\n",
    "import matplotlib.pyplot as plt\n",
    "\n",
    "import xspec as xs\n",
    "xs.Xset.allowPrompting = False #keeps pyxspec from hanging, waiting a response to a prompt\n",
    "xs.Xset.allowNewAttributes = True"
   ]
  },
  {
   "cell_type": "code",
   "execution_count": 2,
   "metadata": {},
   "outputs": [],
   "source": [
    "SED10=np.load('bn121225417_SED10.npy')\n",
    "\n",
    "def zero(engs, params, flux):\n",
    "    norm1 = params[0]\n",
    "    flux[:] = norm1*np.ones(len(SED10))*1e-150  # an array of small numbers ~0\n",
    "    \n",
    "zeroInfo = (\"norm1 \\\"\\\" 1 1e-1  1e-1  1e1 1e1 1\",)\n",
    "xs.AllModels.addPyMod(zero, zeroInfo, 'add',  spectrumDependent=True)"
   ]
  },
  {
   "cell_type": "code",
   "execution_count": 3,
   "metadata": {},
   "outputs": [],
   "source": [
    "# normalizations, coarse grid\n",
    "N = np.logspace(np.log10(8.4e-8), np.log10(8.4e2), 30)\n",
    "\n",
    "normZERO = np.zeros((30,2001))\n",
    "chi_stat = np.zeros((30,2001))\n",
    "Fit_st = np.zeros((30,2001))\n",
    "\n",
    "xs.AllData.clear()   # clear all data, if any.\n",
    "\n",
    "for j in range(30):\n",
    "    for i in range(1,2001):\n",
    "        xs.AllData.clear()\n",
    "        s=xs.Spectrum(\"bn121225417_ALP%s_bkg.fak{%s}\" %(j,i))\n",
    "        s.response = \"bn121225417_LAT-LLE_weightedrsp.rsp\"\n",
    "        s.background= (\"bn121225417_LAT-LLE_bkgspectra.bak{1}\")\n",
    "        xs.AllModels.clear()\n",
    "        m=xs.Model(\"zero\")\n",
    "        xs.Fit.statMethod = \"pgstat\"\n",
    "        m.zero.norm1.values=1.\n",
    "        m.zero.norm1.frozen = True\n",
    "        m.zero.norm.frozen = False\n",
    "        xs.Fit.perform()\n",
    "        chi_stat[j,i] = xs.Fit.testStatistic\n",
    "        Fit_st[j,i] = xs.Fit.statistic  \n",
    "        \n",
    "np.save('TS_pgfit_ZERO.npy', chi_stat)\n",
    "np.save('pgfit_ZERO.npy', Fit_st)     "
   ]
  },
  {
   "cell_type": "code",
   "execution_count": null,
   "metadata": {},
   "outputs": [],
   "source": []
  }
 ],
 "metadata": {
  "kernelspec": {
   "display_name": "Python 2",
   "language": "python",
   "name": "python2"
  },
  "language_info": {
   "codemirror_mode": {
    "name": "ipython",
    "version": 2
   },
   "file_extension": ".py",
   "mimetype": "text/x-python",
   "name": "python",
   "nbconvert_exporter": "python",
   "pygments_lexer": "ipython2",
   "version": "2.7.15"
  }
 },
 "nbformat": 4,
 "nbformat_minor": 2
}
