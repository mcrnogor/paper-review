{
 "cells": [
  {
   "cell_type": "code",
   "execution_count": 1,
   "metadata": {},
   "outputs": [],
   "source": [
    "# importing general packages\n",
    "\n",
    "import numpy as np\n",
    "import os, sys\n",
    "import matplotlib.pyplot as plt\n",
    "\n",
    "import xspec as xs\n",
    "xs.Xset.allowPrompting = False #keeps pyxspec from hanging, waiting a response to a prompt\n",
    "xs.Xset.allowNewAttributes = True"
   ]
  },
  {
   "cell_type": "code",
   "execution_count": 2,
   "metadata": {},
   "outputs": [
    {
     "name": "stdout",
     "output_type": "stream",
     "text": [
      "\n",
      "User entered plot commands:\n"
     ]
    }
   ],
   "source": [
    "# What does the  unfolded spectrum look like from XSPEC? (Note that this is model dependent, but background is \n",
    "# well fit by power law, and the differences minimal + it still indicates the level on the order \n",
    "# of magnitude consideration)\n",
    "\n",
    "\n",
    "# This is for 80 seconds for the spectral file\n",
    "\n",
    "xs.AllData.clear()\n",
    "average = xs.Spectrum(\"backgrounds_revised/medium/coarse/bn121225417_LAT-LLE_bkgspectra.bak{1}\")\n",
    "average.response = \"backgrounds_revised/medium/coarse/bn121225417_LAT-LLE_weightedrsp.rsp\"\n",
    "\n",
    "xs.AllModels.clear()\n",
    "m=xs.Model(\"pow\")\n",
    "xs.Fit.perform()\n",
    "\n",
    "xs.Plot.device=\"/xs\"\n",
    "xs.Plot.xAxis=\"MeV\"\n",
    "xs.Plot.add=True\n",
    "xs.Plot.background=True\n",
    "xs.Plot.xLog=True\n",
    "xs.Plot.yLog=True\n",
    "xs.Plot.show()\n",
    "xs.Plot(\"ufspec\") # this is unfolded spectrum\n",
    "\n",
    "x_average_uf_80= xs.Plot.x(1)\n",
    "y_average_uf_80 = xs.Plot.y(1)\n",
    "xErrs_average_uf_80 = xs.Plot.xErr(1)\n",
    "yErrs_average_uf_80 = xs.Plot.yErr(1)"
   ]
  },
  {
   "cell_type": "code",
   "execution_count": 3,
   "metadata": {},
   "outputs": [
    {
     "name": "stdout",
     "output_type": "stream",
     "text": [
      "\n",
      "User entered plot commands:\n"
     ]
    }
   ],
   "source": [
    "# This is for 20 seconds for the spectral file\n",
    "\n",
    "xs.AllData.clear()\n",
    "average = xs.Spectrum(\"bkg_20s/bn121225417_LAT-LLE_bkgspectra.bak{1}\")\n",
    "average.response = \"bkg_20s/bn121225417_LAT-LLE_weightedrsp.rsp\"\n",
    "\n",
    "xs.AllModels.clear()\n",
    "m=xs.Model(\"pow\")\n",
    "xs.Fit.perform()\n",
    "\n",
    "xs.Plot.device=\"/xs\"\n",
    "xs.Plot.xAxis=\"MeV\"\n",
    "xs.Plot.add=True\n",
    "xs.Plot.background=True\n",
    "xs.Plot.xLog=True\n",
    "xs.Plot.yLog=True\n",
    "xs.Plot.show()\n",
    "xs.Plot(\"ufspec\") # this is unfolded spectrum\n",
    "\n",
    "x_average_uf_20= xs.Plot.x(1)\n",
    "y_average_uf_20 = xs.Plot.y(1)\n",
    "xErrs_average_uf_20 = xs.Plot.xErr(1)\n",
    "yErrs_average_uf_20 = xs.Plot.yErr(1)"
   ]
  },
  {
   "cell_type": "code",
   "execution_count": 4,
   "metadata": {
    "scrolled": true
   },
   "outputs": [
    {
     "data": {
      "image/png": "[encoded data removed]",
      "text/plain": [
       "<Figure size 432x288 with 1 Axes>"
      ]
     },
     "metadata": {
      "needs_background": "light"
     },
     "output_type": "display_data"
    }
   ],
   "source": [
    "plt.errorbar(x_average_uf_20, y_average_uf_20, xerr = xErrs_average_uf_20, yerr = yErrs_average_uf_20, ls='none', color='b', label='20 sec GRB')\n",
    "plt.errorbar(x_average_uf_80, y_average_uf_80, xerr = xErrs_average_uf_80, yerr = yErrs_average_uf_80, ls='none', color='r', label='80 sec on GRB')\n",
    "plt.ylabel('photons cm$^{-2}$ s$^{-1}$ MeV$^{-1}$ ')\n",
    "plt.xlabel('Energy, MeV')\n",
    "plt.yscale('log')\n",
    "plt.xlim(0, 5e2)\n",
    "plt.legend()\n",
    "plt.tight_layout()\n",
    "plt.show()\n",
    "\n"
   ]
  },
  {
   "cell_type": "code",
   "execution_count": 5,
   "metadata": {},
   "outputs": [
    {
     "data": {
      "text/plain": [
       "80.0"
      ]
     },
     "execution_count": 5,
     "metadata": {},
     "output_type": "execute_result"
    }
   ],
   "source": [
    "from astropy.io import fits\n",
    "\n",
    "# This is 80-second interval for the GRB\n",
    "\n",
    "spec_80 = fits.open(\"backgrounds_revised/medium/coarse/bn121225417_LAT-LLE_srcspectra.pha\")\n",
    "spec_80[3].header['TSTOP']- spec_80[3].header['TSTART']"
   ]
  },
  {
   "cell_type": "code",
   "execution_count": 6,
   "metadata": {},
   "outputs": [
    {
     "data": {
      "text/plain": [
       "20.0"
      ]
     },
     "execution_count": 6,
     "metadata": {},
     "output_type": "execute_result"
    }
   ],
   "source": [
    "# and for 20 s ...\n",
    "spec_20 = fits.open(\"bkg_20s/bn121225417_LAT-LLE_srcspectra.pha\")\n",
    "spec_20[3].header['TSTOP']- spec_20[3].header['TSTART']"
   ]
  },
  {
   "cell_type": "code",
   "execution_count": 7,
   "metadata": {},
   "outputs": [
    {
     "name": "stdout",
     "output_type": "stream",
     "text": [
      "Number of background counts for 80 seconds is 4313.5, and for 20 seconds it is 1011.6.\n"
     ]
    }
   ],
   "source": [
    "# Number of background counts for each background\n",
    "\n",
    "from scipy import integrate\n",
    "\n",
    "# LLE effective area: https://confluence.slac.stanford.edu/display/SCIGRPS/LLE+2.0 \n",
    "\n",
    "area = 4000 # 1m^2?\n",
    "bkg_cts_80s = integrate.simps(y_average_uf_80, x_average_uf_80)*80*area\n",
    "bkg_cts_20s = integrate.simps(y_average_uf_20, x_average_uf_20)*20*area\n",
    "\n",
    "print('Number of background counts for 80 seconds is %.1f, and for 20 seconds it is %.1f.' %(bkg_cts_80s, bkg_cts_20s))"
   ]
  },
  {
   "cell_type": "code",
   "execution_count": null,
   "metadata": {},
   "outputs": [],
   "source": []
  }
 ],
 "metadata": {
  "kernelspec": {
   "display_name": "Python 2",
   "language": "python",
   "name": "python2"
  },
  "language_info": {
   "codemirror_mode": {
    "name": "ipython",
    "version": 2
   },
   "file_extension": ".py",
   "mimetype": "text/x-python",
   "name": "python",
   "nbconvert_exporter": "python",
   "pygments_lexer": "ipython2",
   "version": "2.7.15"
  }
 },
 "nbformat": 4,
 "nbformat_minor": 2
}
