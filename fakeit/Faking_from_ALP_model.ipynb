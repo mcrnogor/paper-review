{
 "cells": [
  {
   "cell_type": "markdown",
   "metadata": {},
   "source": [
    "### Faking the ALP spectrum using the XSPEC fakeit function"
   ]
  },
  {
   "cell_type": "code",
   "execution_count": 1,
   "metadata": {},
   "outputs": [],
   "source": [
    "# importing general packages\n",
    "\n",
    "import numpy as np\n",
    "import os, sys\n",
    "import matplotlib.pyplot as plt\n",
    "\n",
    "# importing XSPEC\n",
    "\n",
    "import xspec as xs\n",
    "xs.Xset.allowPrompting = False #keeps pyxspec from hanging, waiting a response to a prompt\n",
    "xs.Xset.allowNewAttributes = True\n",
    "\n",
    "# importing fits \n",
    "\n",
    "from astropy.io import fits"
   ]
  },
  {
   "cell_type": "code",
   "execution_count": 2,
   "metadata": {},
   "outputs": [],
   "source": [
    "# Getting the general files \n",
    "\n",
    "E_LLE = np.load('bn121225417_EMeV.npy') # LLE energy bins, [MeV]\n",
    "energy_binsizes = np.ediff1d(E_LLE) # finding the LLE bin sizes\n",
    "energy_binsizes = np.append(energy_binsizes, energy_binsizes[-1]) # just to make the array the right size\n",
    "\n",
    "SED10_norm = np.load('bn121225417SED10_norm.npy') # ALP SED normalized by N, [1e52 ph cm^-2 s^-1 MeV^-1]\n",
    "N = np.logspace(np.log10(8.4e-8), np.log10(8.4e2), 30) # normalization values, [1e-52 cm^-2]"
   ]
  },
  {
   "cell_type": "code",
   "execution_count": 3,
   "metadata": {},
   "outputs": [],
   "source": [
    "\"\"\"Defining the ALP model\n",
    "# The SED10 below is the product of Manuel's code and is produced with ALP_spectrum_norm.py. \n",
    "# This is going to be the input model with one free parameter, norm1\n",
    "# (XSPEC assigns normalization as a default fit parameter,\n",
    "# adding norm1 as it is required to have a manually defined fit parameter. For the future\n",
    "# analysis, one of the normalizations is always fixed  to 1.) The flux value needs to be given in [ph/s]\n",
    "\"\"\"\n",
    "\n",
    "SED10 = np.load('bn121225417_SED10.npy') # the output of Manuel's code, N = 1 cm^-2\n",
    "\n",
    "def ALP(engs, params, flux):\n",
    "    norm1 = params[0]\n",
    "    flux[:] = norm1 * SED10[:]*energy_binsizes# the model to be given per bin\n",
    "    # print(len(flux), len(engs)) # these two have to be the same\n",
    "        \n",
    "ALPInfo = (\"norm1 cm-2 1.1  1e-12  1e-10 1e10 1e12 0.0001\",)\n",
    "xs.AllModels.addPyMod(ALP, ALPInfo, 'add', spectrumDependent=True)"
   ]
  },
  {
   "cell_type": "code",
   "execution_count": 4,
   "metadata": {},
   "outputs": [],
   "source": [
    "# Defining the model for XSPEC fakeit. I will fix N[25] as the input normalization (just as a test).\n",
    "\n",
    "xs.AllData.clear()\n",
    "xs.AllModels.clear() \n",
    "m = xs.Model('ALP') \n",
    "\n",
    "# freezing the model parameters \n",
    "m.ALP.norm.values = 1\n",
    "m.ALP.norm.frozen = True\n",
    "m.ALP.norm1.values = N[25]\n",
    "m.ALP.norm1.frozen = True"
   ]
  },
  {
   "cell_type": "code",
   "execution_count": 5,
   "metadata": {},
   "outputs": [],
   "source": [
    "# producing one fake spectrum for a given exposure time (same as the given background in this case, 80 s)\n",
    "# background file is the corresponding GRB background (Telapse = 80 s, and the response file is that of the \n",
    "# GRB)\n",
    "\n",
    "fs = xs.FakeitSettings(background=\"bn121225417_LAT-LLE_bkgspectra.bak{1}\", response='bn121225417_LAT-LLE_weightedrsp.rsp', exposure=80.0)\n",
    "sl = 1*[fs] # making only one simulation\n",
    "xs.AllData.fakeit(1, sl)"
   ]
  },
  {
   "cell_type": "code",
   "execution_count": 6,
   "metadata": {},
   "outputs": [
    {
     "name": "stdout",
     "output_type": "stream",
     "text": [
      "\n",
      "User entered plot commands:\n"
     ]
    }
   ],
   "source": [
    "# plotting the simulated spectrum (unfolded: https://heasarc.gsfc.nasa.gov/xanadu/xspec/manual/node114.html)\n",
    "\n",
    "xs.Plot.device=\"/xs\"\n",
    "xs.Plot.xAxis=\"MeV\"\n",
    "xs.Plot.add=True\n",
    "xs.Plot.background=True\n",
    "xs.Plot.xLog=True\n",
    "xs.Plot.yLog=True\n",
    "xs.Plot.show()\n",
    "xs.Plot(\"ufspec\") # this is the unfolded spectrum "
   ]
  },
  {
   "cell_type": "code",
   "execution_count": 7,
   "metadata": {},
   "outputs": [
    {
     "data": {
      "text/plain": [
       "<matplotlib.legend.Legend at 0x7f9c8a5d7910>"
      ]
     },
     "execution_count": 7,
     "metadata": {},
     "output_type": "execute_result"
    },
    {
     "data": {
      "image/png": "[encoded data removed]",
      "text/plain": [
       "<Figure size 432x288 with 1 Axes>"
      ]
     },
     "metadata": {
      "needs_background": "light"
     },
     "output_type": "display_data"
    }
   ],
   "source": [
    "# extracting xs.Plot values for matplotlib for the unfolded simulated spectrum\n",
    "\n",
    "xerr_uf = np.asarray(xs.Plot.xErr()) # x error in [MeV]\n",
    "yerr_uf = np.asarray(xs.Plot.yErr()) # y error in [ph/s/MeV/cm^2]\n",
    "spec_uf = np.asarray(xs.Plot.y()) # unfolded, simulated ALP spectrum, in [ph/s/MeV/cm^2]\n",
    "\n",
    "\n",
    "plt.errorbar(E_LLE, spec_uf, xerr=xerr_uf, yerr=yerr_uf, label='XSPEC unfolded fake spectrum')\n",
    "plt.plot(E_LLE, SED10_norm[25,:], label='Manuel code output')\n",
    "plt.xlabel('Energy, MeV')\n",
    "plt.ylabel('photons cm$^{-2}$ s$^{-1}$ MeV$^{-1}$ ')\n",
    "plt.xscale('log')\n",
    "#plt.yscale('log')\n",
    "plt.grid()\n",
    "plt.legend()"
   ]
  },
  {
   "cell_type": "code",
   "execution_count": 8,
   "metadata": {},
   "outputs": [
    {
     "name": "stdout",
     "output_type": "stream",
     "text": [
      "\n",
      "User entered plot commands:\n"
     ]
    }
   ],
   "source": [
    "# Now, let's plot the folded spectrum. Consider LLE effective area here: \n",
    "# https://confluence.slac.stanford.edu/display/SCIGRPS/LLE+2.0\n",
    "\n",
    "xs.Plot.device=\"/xs\"\n",
    "xs.Plot.xAxis=\"MeV\"\n",
    "xs.Plot.add=True\n",
    "xs.Plot.background=True\n",
    "xs.Plot.xLog=True\n",
    "xs.Plot.yLog=True\n",
    "xs.Plot.show()\n",
    "xs.Plot(\"data\") # this is the unfolded spectrum "
   ]
  },
  {
   "cell_type": "code",
   "execution_count": 9,
   "metadata": {},
   "outputs": [
    {
     "data": {
      "text/plain": [
       "<matplotlib.legend.Legend at 0x7ff9749e6050>"
      ]
     },
     "execution_count": 9,
     "metadata": {},
     "output_type": "execute_result"
    },
    {
     "data": {
      "image/png": "[encoded data removed]",
      "text/plain": [
       "<Figure size 432x288 with 1 Axes>"
      ]
     },
     "metadata": {
      "needs_background": "light"
     },
     "output_type": "display_data"
    }
   ],
   "source": [
    "# extracting xs.Plot values for matplotlib for the folded simulated spectrum\n",
    "\n",
    "\n",
    "xerr_f = np.asarray(xs.Plot.xErr()) # x errors, in [MeV]\n",
    "yerr_f = np.asarray(xs.Plot.yErr()) # y errors, in [ph/s/MeV]\n",
    "spec_f = np.asarray(xs.Plot.y()) # simulated folded spectrum, in [ph/s/MeV]\n",
    "bkg_f = np.asarray(xs.Plot.backgroundVals()) # folded background, in [ph/s/MeV]\n",
    "\n",
    "\n",
    "\n",
    "plt.errorbar(E_LLE, spec_f, xerr=xerr_f, yerr=yerr_f, label='XSPEC folded fake spectrum') # background subtracted\n",
    "plt.plot(E_LLE, bkg_f, label = 'background')\n",
    "plt.xlabel('Energy, MeV')\n",
    "plt.ylabel('counts s$^{-1}$ MeV$^{-1}$ ')\n",
    "plt.xscale('log')\n",
    "plt.yscale('log')\n",
    "plt.grid()\n",
    "plt.legend()"
   ]
  },
  {
   "cell_type": "markdown",
   "metadata": {},
   "source": [
    "Note that the difference in spectral amplitude between folded and unfolded is a factor of ~2000 for energies below ~400 MeV, which should correspond to the LLE effective area in this energy range?"
   ]
  },
  {
   "cell_type": "code",
   "execution_count": null,
   "metadata": {},
   "outputs": [],
   "source": []
  }
 ],
 "metadata": {
  "kernelspec": {
   "display_name": "Python 2",
   "language": "python",
   "name": "python2"
  },
  "language_info": {
   "codemirror_mode": {
    "name": "ipython",
    "version": 2
   },
   "file_extension": ".py",
   "mimetype": "text/x-python",
   "name": "python",
   "nbconvert_exporter": "python",
   "pygments_lexer": "ipython2",
   "version": "2.7.15"
  }
 },
 "nbformat": 4,
 "nbformat_minor": 2
}
