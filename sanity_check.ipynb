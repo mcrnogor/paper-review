{
 "cells": [
  {
   "cell_type": "code",
   "execution_count": 1,
   "metadata": {},
   "outputs": [],
   "source": [
    "# importing general packages\n",
    "\n",
    "# importing the necessary packages:\n",
    "\n",
    "import numpy as np\n",
    "import sys\n",
    "import os\n",
    "import matplotlib\n",
    "import matplotlib.pyplot as plt\n",
    "\n",
    "plt.rcParams['text.usetex'] = True\n",
    "plt.rcParams['text.latex.unicode'] = True\n",
    "plt.rcParams['mathtext.rm'] = 'Times New Roman'\n",
    "plt.rcParams['mathtext.it'] = 'Times New Roman:italic'\n",
    "plt.rcParams['mathtext.bf'] = 'Times New Roman:bold'\n",
    "\n",
    "plt.rc('font', family='serif', size=18)\n",
    "plt.rcParams['xtick.labelsize'] = 16\n",
    "plt.rcParams['ytick.labelsize'] = 16\n",
    "plt.rcParams['xtick.major.size'] = 5\n",
    "plt.rcParams['ytick.major.size'] = 5\n",
    "\n",
    "%matplotlib inline\n",
    "\n",
    "# importing ALP packages\n",
    "\n",
    "sys.path.append('/Users/milena/Desktop/2nd_yr_project/ALPs/ALPs_analysis/') # path to calc_alp_signal script\n",
    "from calc_alp_signal import ALPSNSignal\n",
    "\n",
    "# importing additional packages\n",
    "\n",
    "from scipy import integrate"
   ]
  },
  {
   "cell_type": "markdown",
   "metadata": {},
   "source": [
    "### Sanity check:\n",
    "Idea: take the lowest normalization (5.04e-52 cm^-2); integrate over the ALP spectrum over time & energy, to get fluence. How does it compare to the fluences reported in the catalog?"
   ]
  },
  {
   "cell_type": "code",
   "execution_count": 4,
   "metadata": {},
   "outputs": [],
   "source": [
    "EMeV = np.linspace(20.,300,100) # [MeV]\n",
    "ts = np.linspace(0.1,25.,250)\n",
    "ee, tt = np.meshgrid(EMeV,ts, indexing = 'ij')\n",
    "alp_sn10 = ALPSNSignal(Mprog = 10.) # in 10^52\n",
    "dndedt_alp10 = alp_sn10(EMeV, ts, g10=0.1) # Flux, [10^52 ph/(MeV s)]\n",
    "\n",
    "SED10 = integrate.simps(dndedt_alp10, ts)"
   ]
  },
  {
   "cell_type": "code",
   "execution_count": 5,
   "metadata": {},
   "outputs": [
    {
     "name": "stdout",
     "output_type": "stream",
     "text": [
      "The fluence of the ALP signal corresponding to normalization 6.3e-52 is 0.039 cts/ s cm^2.\n"
     ]
    }
   ],
   "source": [
    "# lowest normalization for which we are sensitive to ALPs, medium background, P=0.1\n",
    "norm = 3.68 # [cm^-2], in  10^-52\n",
    "fluence = norm*integrate.simps(SED10, EMeV)/25. #averaging over time elapsed\n",
    "print(\"The fluence of the ALP signal corresponding to normalization 6.3e-52 is %.3f cts/ s cm^2.\" %fluence)"
   ]
  },
  {
   "cell_type": "markdown",
   "metadata": {},
   "source": [
    "This is the value averaged over 25 seconds of the ALP emission."
   ]
  },
  {
   "cell_type": "markdown",
   "metadata": {},
   "source": [
    "#### GRB 080825 C\n",
    "8 sigma detection in LLE: GRB 080825C: https://arxiv.org/pdf/0910.4192.pdf\n",
    "LLE analysis spectral fit given below:"
   ]
  },
  {
   "cell_type": "code",
   "execution_count": 5,
   "metadata": {},
   "outputs": [],
   "source": [
    "# The lowest reported detection in the catalog in LLE\n",
    "# 8 sigma detection: GRB 080825C: https://arxiv.org/pdf/0910.4192.pdf\n",
    "# LLE Band function spectral parameters:\n",
    "norm = 138e-3\n",
    "alpha = -0.52\n",
    "beta = -2.37\n",
    "tem = 210 # [keV]\n",
    "\n",
    "def get_parVals():\n",
    "    pars = [alpha, beta, tem, norm]    \n",
    "    return pars"
   ]
  },
  {
   "cell_type": "code",
   "execution_count": 6,
   "metadata": {},
   "outputs": [],
   "source": [
    "# Defining the Band function: https://ui.adsabs.harvard.edu/abs/1993ApJ...413..281B/abstract\n",
    "# in XSPEC: https://heasarc.gsfc.nasa.gov/xanadu/xspec/manual/node181.html\n",
    "\n",
    "def band(energy):\n",
    "    '''\n",
    "    BAND(energy, alpha, beta, tem, norm) \n",
    "        \n",
    "    PARAMETERS:\n",
    "    ----------\n",
    "    energy: float, energy element from an array of energies over which \n",
    "            the function is integrated over. \n",
    "    alpha:  float, alpha (low-energy index) parameter value.  \n",
    "    beta:   float, beta (high-energy index) parameter value.     \n",
    "    tem: float, characteristic energy parameter value.  \n",
    "    norm:   float, normalization (aka amplitude) parameter value.  \n",
    "    ''' \n",
    "    alpha, beta, tem, norm = get_parVals()\n",
    "\n",
    "    a = float(alpha)\n",
    "    b = float(beta)\n",
    "    t = float(tem)\n",
    "    N = float(norm)\n",
    "    eng  = energy\n",
    "    \n",
    "    if eng < ( (a-b) * t ):\n",
    "        return  N * (((eng/100.0)**a) * (np.exp(-eng/t)))\n",
    "    else:\n",
    "        return  N * (((((a-b)*t)/100.0)**(a-b)) * (np.exp(b-a))*((eng/100.0)**b))\n",
    "\n",
    "def eband(energy):\n",
    "    eng  = energy\n",
    "    return eng * band(eng)"
   ]
  },
  {
   "cell_type": "code",
   "execution_count": 12,
   "metadata": {},
   "outputs": [],
   "source": [
    "keVtoerg    = 1.60217657E-9 # conversion factor from keV to erg\n",
    "emin        = 20000. \n",
    "emax        = 300000."
   ]
  },
  {
   "cell_type": "code",
   "execution_count": 13,
   "metadata": {},
   "outputs": [
    {
     "name": "stdout",
     "output_type": "stream",
     "text": [
      "\n",
      "Photon Flux:  0.013394103 \t cts s^-1 cm^-2\n",
      "Energy Flux:  1.030942536e-06 \t ergs s^-1 cm^-2\n",
      "\n"
     ]
    }
   ],
   "source": [
    "Flux_Ph = integrate.quad(band, emin, emax, limit=100)[0]\n",
    "Flux_En = integrate.quad(eband, emin, emax, limit=100)[0] * keVtoerg\n",
    "\n",
    "print(\n",
    "'''\n",
    "Photon Flux:  %.9f \\t cts s^-1 cm^-2\n",
    "Energy Flux:  %.9e \\t ergs s^-1 cm^-2\n",
    "'''%(Flux_Ph, Flux_En))"
   ]
  },
  {
   "cell_type": "code",
   "execution_count": 9,
   "metadata": {},
   "outputs": [],
   "source": []
  },
  {
   "cell_type": "code",
   "execution_count": null,
   "metadata": {},
   "outputs": [],
   "source": []
  },
  {
   "cell_type": "code",
   "execution_count": null,
   "metadata": {},
   "outputs": [],
   "source": []
  },
  {
   "cell_type": "code",
   "execution_count": null,
   "metadata": {},
   "outputs": [],
   "source": []
  }
 ],
 "metadata": {
  "kernelspec": {
   "display_name": "Python 2",
   "language": "python",
   "name": "python2"
  },
  "language_info": {
   "codemirror_mode": {
    "name": "ipython",
    "version": 2
   },
   "file_extension": ".py",
   "mimetype": "text/x-python",
   "name": "python",
   "nbconvert_exporter": "python",
   "pygments_lexer": "ipython2",
   "version": "2.7.15"
  }
 },
 "nbformat": 4,
 "nbformat_minor": 2
}
