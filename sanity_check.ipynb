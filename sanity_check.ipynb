{
 "cells": [
  {
   "cell_type": "code",
   "execution_count": 1,
   "metadata": {},
   "outputs": [],
   "source": [
    "# importing general packages\n",
    "\n",
    "import numpy as np\n",
    "import sys\n",
    "import os\n",
    "import matplotlib\n",
    "import matplotlib.pyplot as plt\n",
    "\n",
    "%matplotlib inline\n",
    "\n",
    "# importing additional packages\n",
    "\n",
    "from scipy import integrate\n",
    "import xspec as xs\n",
    "xs.Xset.allowPrompting = False # keeps pyxspec from hanging, waiting for a response to a prompt"
   ]
  },
  {
   "cell_type": "markdown",
   "metadata": {},
   "source": [
    "### Sanity check:\n",
    "Idea: take the lowest normalization (3.68e-52 cm^-2); integrate over the ALP spectrum over time & energy, to get fluence. How does it compare to the fluences reported in the catalog?"
   ]
  },
  {
   "cell_type": "markdown",
   "metadata": {},
   "source": [
    "#### GRB 080825 C\n",
    "8 sigma detection in LLE: GRB 080825C: https://arxiv.org/pdf/0910.4192.pdf\n",
    "LLE analysis spectral fit given below:"
   ]
  },
  {
   "cell_type": "code",
   "execution_count": 2,
   "metadata": {},
   "outputs": [],
   "source": [
    "xs.AllData.clear()\n",
    "\n",
    "# GBM Data\n",
    "\n",
    "# NaI\n",
    "\n",
    "s1=xs.Spectrum(\"bn080825593_n0_srcspectra.pha{*}\")\n",
    "s1.response=\"bn080825593_n0_weightedrsp.rsp\"\n",
    "s1.background=\"bn080825593_n0_bkgspectra.bak{1}\"\n",
    "\n",
    "s2=xs.Spectrum(\"bn080825593_n1_srcspectra.pha{*}\")\n",
    "s2.response=\"bn080825593_n1_weightedrsp.rsp\"\n",
    "s2.background=\"bn080825593_n1_bkgspectra.bak{1}\"\n",
    "\n",
    "s3=xs.Spectrum(\"bn080825593_n2_srcspectra.pha{*}\")\n",
    "s3.response=\"bn080825593_n2_weightedrsp.rsp\"\n",
    "s3.background=\"bn080825593_n2_bkgspectra.bak{1}\"\n",
    "\n",
    "\n",
    "# BGO\n",
    "\n",
    "s4=xs.Spectrum(\"bn080825593_b1_srcspectra.pha{*}\")\n",
    "s4.response=\"bn080825593_b1_weightedrsp.rsp\"\n",
    "s4.background=\"bn080825593_b1_bkgspectra.bak{1}\"\n",
    "\n",
    "# LAT data\n",
    "\n",
    "# LLE\n",
    "\n",
    "s5=xs.Spectrum(\"bn080825593_LAT-LLE_srcspectra.pha{*}\")\n",
    "s5.response=\"bn080825593_LAT-LLE_weightedrsp.rsp\"\n",
    "s5.background=\"bn080825593_LAT-LLE_bkgspectra.bak{1}\"\n",
    "\n",
    "# LAT\n",
    "\n",
    "s6=xs.Spectrum(\"gll_ft1_tr_bn080825593_v00_filt_spec_0.000_25.000.pha\")\n",
    "s6.response=\"gll_ft1_tr_bn080825593_v00_filt_spec_0.000_25.000.rsp\"\n",
    "s6.background=\"gll_ft1_tr_bn080825593_v00_filt_spec_0.000_25.000.bak\"\n",
    "\n",
    "\n",
    "xs.AllData.ignore(\"1-3: **-8.0\")\n",
    "xs.AllData.ignore(\"4: **-200.\")\n",
    "xs.AllData.ignore(\"4: 40e3-**\")\n",
    "xs.AllData.ignore(\"5: **-20e3\")\n",
    "xs.AllData.ignore(\"bad\")"
   ]
  },
  {
   "cell_type": "code",
   "execution_count": 3,
   "metadata": {},
   "outputs": [],
   "source": [
    "xs.AllModels.clear()\n",
    "m = xs.Model(\"grbm\")\n",
    "xs.Fit.statMethod = \"cstat 1-4\"\n",
    "xs.Fit.statMethod = \"pgstat 5-6\"\n",
    "xs.Fit.perform()"
   ]
  },
  {
   "cell_type": "code",
   "execution_count": 4,
   "metadata": {},
   "outputs": [
    {
     "name": "stdout",
     "output_type": "stream",
     "text": [
      "Reduced chi^2 for this fit is 1.33.\n",
      "[0.4040647769508021, -2.283940300339788, 46.236233074964325, 0.2637855165696815]\n"
     ]
    }
   ],
   "source": [
    "norm = m.grbm.norm.values[0]\n",
    "alpha = m.grbm.alpha.values[0]\n",
    "beta = m.grbm.beta.values[0]\n",
    "tem = m.grbm.tem.values[0]\n",
    "red_chi2 = xs.Fit.statistic/xs.Fit.dof\n",
    "print(\"Reduced chi^2 for this fit is %.2f.\" %red_chi2)\n",
    "\n",
    "\n",
    "def get_parVals():\n",
    "    pars = [alpha, beta, tem, norm]    \n",
    "    return pars\n",
    "print(get_parVals())"
   ]
  },
  {
   "cell_type": "code",
   "execution_count": 5,
   "metadata": {},
   "outputs": [],
   "source": [
    "# Defining the Band function: https://ui.adsabs.harvard.edu/abs/1993ApJ...413..281B/abstract\n",
    "# in XSPEC: https://heasarc.gsfc.nasa.gov/xanadu/xspec/manual/node181.html\n",
    "\n",
    "def band(energy):\n",
    "    '''\n",
    "    BAND(energy, alpha, beta, tem, norm) \n",
    "        \n",
    "    PARAMETERS:\n",
    "    ----------\n",
    "    energy: float, energy element from an array of energies over which \n",
    "            the function is integrated over. \n",
    "    alpha:  float, alpha (low-energy index) parameter value.  \n",
    "    beta:   float, beta (high-energy index) parameter value.     \n",
    "    tem: float, characteristic energy parameter value.  \n",
    "    norm:   float, normalization (aka amplitude) parameter value.  \n",
    "    ''' \n",
    "    alpha, beta, tem, norm = get_parVals()\n",
    "\n",
    "    a = float(alpha)\n",
    "    b = float(beta)\n",
    "    t = float(tem)\n",
    "    N = float(norm)\n",
    "    eng  = energy\n",
    "    \n",
    "    if eng < ( (a-b) * t ):\n",
    "        return  N * (((eng/100.0)**a) * (np.exp(-eng/t)))\n",
    "    else:\n",
    "        return  N * (((((a-b)*t)/100.0)**(a-b)) * (np.exp(b-a))*((eng/100.0)**b))\n",
    "\n",
    "def eband(energy):\n",
    "    eng  = energy\n",
    "    return eng * band(eng)"
   ]
  },
  {
   "cell_type": "code",
   "execution_count": 6,
   "metadata": {},
   "outputs": [],
   "source": [
    "keVtoerg    = 1.60217657E-9 # conversion factor from keV to erg\n",
    "emin        = 15000. # in keV\n",
    "emax        = 350000. "
   ]
  },
  {
   "cell_type": "code",
   "execution_count": 7,
   "metadata": {},
   "outputs": [
    {
     "name": "stdout",
     "output_type": "stream",
     "text": [
      "\n",
      "Photon Flux:  0.003957792 \t cts s^-1 cm^-2\n",
      "Energy Flux:  2.587849884e-07 \t ergs s^-1 cm^-2\n",
      "\n"
     ]
    }
   ],
   "source": [
    "Flux_Ph = integrate.quad(band, emin, emax, limit=100)[0]\n",
    "Flux_En = integrate.quad(eband, emin, emax, limit=100)[0] * keVtoerg\n",
    "\n",
    "print(\n",
    "'''\n",
    "Photon Flux:  %.9f \\t cts s^-1 cm^-2\n",
    "Energy Flux:  %.9e \\t ergs s^-1 cm^-2\n",
    "'''%(Flux_Ph, Flux_En))"
   ]
  },
  {
   "cell_type": "markdown",
   "metadata": {},
   "source": [
    "### Normalized ALP Spectrum"
   ]
  },
  {
   "cell_type": "code",
   "execution_count": 8,
   "metadata": {},
   "outputs": [],
   "source": [
    "# importing ALP packages\n",
    "\n",
    "sys.path.append('/Users/milena/Desktop/2nd_yr_project/ALPs/ALPs_analysis/') # path to calc_alp_signal script\n",
    "from calc_alp_signal import ALPSNSignal"
   ]
  },
  {
   "cell_type": "code",
   "execution_count": 9,
   "metadata": {},
   "outputs": [],
   "source": [
    "EMeV = np.linspace(15.,350,100) # [MeV]\n",
    "ts = np.linspace(0.1,25.,250)\n",
    "ee, tt = np.meshgrid(EMeV,ts, indexing = 'ij')\n",
    "alp_sn10 = ALPSNSignal(Mprog = 10.) # in 10^52\n",
    "dndedt_alp10 = alp_sn10(EMeV, ts, g10=0.1) # Flux, [10^52 ph/(MeV s)]\n",
    "\n",
    "SED10 = integrate.simps(dndedt_alp10, ts)"
   ]
  },
  {
   "cell_type": "code",
   "execution_count": 10,
   "metadata": {},
   "outputs": [
    {
     "name": "stdout",
     "output_type": "stream",
     "text": [
      "The fluence of the ALP signal corresponding to normalization 3.68e-52 is 0.039 cts/ s cm^2.\n"
     ]
    }
   ],
   "source": [
    "# lowest normalization for which we are sensitive to ALPs, medium background, P=0.1\n",
    "norm = 3.68 # [cm^-2], in  10^-52\n",
    "fluence = norm*integrate.simps(SED10, EMeV)/25. #averaging over time elapsed\n",
    "print(\"The fluence of the ALP signal corresponding to normalization 3.68e-52 is %.3f cts/ s cm^2.\" %fluence)"
   ]
  },
  {
   "cell_type": "markdown",
   "metadata": {},
   "source": [
    "This is the value averaged over 25 seconds of the ALP emission."
   ]
  },
  {
   "cell_type": "markdown",
   "metadata": {},
   "source": [
    "Off by a factor of ~10. Why? Possible explanations:\n",
    "1. GRB Band fit is governed by GBM and LAT data, not LLE. Also, LLE data extends beyond 300000 (covers LAT's energy range as well), which will contribute to the 8-sigma detection. Eg. if we extend the emax above to 3 GeV (which is LLE's energy range), the flux from the Band fit will get to 0.056 cts / s cm^2, closer to the ALP triggering value."
   ]
  },
  {
   "cell_type": "code",
   "execution_count": null,
   "metadata": {},
   "outputs": [],
   "source": []
  },
  {
   "cell_type": "code",
   "execution_count": null,
   "metadata": {},
   "outputs": [],
   "source": []
  }
 ],
 "metadata": {
  "kernelspec": {
   "display_name": "Python 2",
   "language": "python",
   "name": "python2"
  },
  "language_info": {
   "codemirror_mode": {
    "name": "ipython",
    "version": 2
   },
   "file_extension": ".py",
   "mimetype": "text/x-python",
   "name": "python",
   "nbconvert_exporter": "python",
   "pygments_lexer": "ipython2",
   "version": "2.7.15"
  }
 },
 "nbformat": 4,
 "nbformat_minor": 2
}
