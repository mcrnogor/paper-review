{
 "cells": [
  {
   "cell_type": "markdown",
   "metadata": {},
   "source": [
    "### Simulating spectra\n",
    "\n",
    "Using the XSPEC fake it function to create simulated spectra from the given input. \n",
    "Based on this page: https://heasarc.gsfc.nasa.gov/docs/xanadu/xspec/python/html/extended.html#fakeit"
   ]
  },
  {
   "cell_type": "code",
   "execution_count": 1,
   "metadata": {},
   "outputs": [],
   "source": [
    "# importing general packages\n",
    "\n",
    "import numpy as np\n",
    "import os, sys\n",
    "import matplotlib.pyplot as plt\n",
    "\n",
    "import xspec as xs\n",
    "xs.Xset.allowPrompting = False #keeps pyxspec from hanging, waiting a response to a prompt\n",
    "xs.Xset.allowNewAttributes = True"
   ]
  },
  {
   "cell_type": "code",
   "execution_count": 2,
   "metadata": {},
   "outputs": [],
   "source": [
    "# The units for the model need to be given per bin. Number of bins determined by the \n",
    "# input LLE background spectrum.\n",
    "\n",
    "from astropy.io import fits\n",
    "\n",
    "hdu = fits.open(\"bn121225417_LAT-LLE_bkgspectra.bak\")\n",
    "energy = hdu[2].data # this holds energies corresponding to bin ends, in keV\n",
    "E_MeV_diff = ((energy['E_MAX'] - energy['E_MIN']))/1000. # bin sizes, in MeV\n",
    "nBins = len(E_MeV_diff)\n",
    "# print E_MeV_diff"
   ]
  },
  {
   "cell_type": "code",
   "execution_count": 3,
   "metadata": {},
   "outputs": [],
   "source": [
    "SED10 = np.load('bn121225417_SED10.npy') \n",
    "\n",
    "# This SED is produced with ALP_spectrum_norm.py. This is going to be the input model \n",
    "# with one free parameter, norm1 (XSPEC assigns normalization as a default fit parameter,\n",
    "# adding norm1 as it is required to have a manually defined fit parameter. For the future\n",
    "# analysis, one of the normalizations is always fixed  to 1.)\n",
    "\n",
    "def ALP(engs, params, flux):\n",
    "    norm1 = params[0]\n",
    "    flux[:] = norm1 * SED10[:]/nBins # the model to be given per bin\n",
    "    # print(len(flux), len(engs)) # these two have to be the same\n",
    "        \n",
    "ALPInfo = (\"norm1 \\\"\\\" 1.1  1e-12  1e-10 1e10 1e12 0.0001\",)\n",
    "xs.AllModels.addPyMod(ALP, ALPInfo, 'add', spectrumDependent=True)"
   ]
  },
  {
   "cell_type": "code",
   "execution_count": 4,
   "metadata": {},
   "outputs": [
    {
     "name": "stdout",
     "output_type": "stream",
     "text": [
      "('dummy1_00.fak', 'dummy2_00.fak', 'bn121225417_ALP0_bkg.fak')\n",
      "('dummy1_01.fak', 'dummy2_01.fak', 'bn121225417_ALP1_bkg.fak')\n",
      "('dummy1_02.fak', 'dummy2_02.fak', 'bn121225417_ALP2_bkg.fak')\n",
      "('dummy1_03.fak', 'dummy2_03.fak', 'bn121225417_ALP3_bkg.fak')\n",
      "('dummy1_04.fak', 'dummy2_04.fak', 'bn121225417_ALP4_bkg.fak')\n",
      "('dummy1_05.fak', 'dummy2_05.fak', 'bn121225417_ALP5_bkg.fak')\n",
      "('dummy1_06.fak', 'dummy2_06.fak', 'bn121225417_ALP6_bkg.fak')\n",
      "('dummy1_07.fak', 'dummy2_07.fak', 'bn121225417_ALP7_bkg.fak')\n",
      "('dummy1_08.fak', 'dummy2_08.fak', 'bn121225417_ALP8_bkg.fak')\n",
      "('dummy1_09.fak', 'dummy2_09.fak', 'bn121225417_ALP9_bkg.fak')\n",
      "('dummy1_010.fak', 'dummy2_010.fak', 'bn121225417_ALP10_bkg.fak')\n",
      "('dummy1_011.fak', 'dummy2_011.fak', 'bn121225417_ALP11_bkg.fak')\n",
      "('dummy1_012.fak', 'dummy2_012.fak', 'bn121225417_ALP12_bkg.fak')\n",
      "('dummy1_013.fak', 'dummy2_013.fak', 'bn121225417_ALP13_bkg.fak')\n",
      "('dummy1_014.fak', 'dummy2_014.fak', 'bn121225417_ALP14_bkg.fak')\n",
      "('dummy1_015.fak', 'dummy2_015.fak', 'bn121225417_ALP15_bkg.fak')\n",
      "('dummy1_016.fak', 'dummy2_016.fak', 'bn121225417_ALP16_bkg.fak')\n",
      "('dummy1_017.fak', 'dummy2_017.fak', 'bn121225417_ALP17_bkg.fak')\n",
      "('dummy1_018.fak', 'dummy2_018.fak', 'bn121225417_ALP18_bkg.fak')\n",
      "('dummy1_019.fak', 'dummy2_019.fak', 'bn121225417_ALP19_bkg.fak')\n",
      "('dummy1_020.fak', 'dummy2_020.fak', 'bn121225417_ALP20_bkg.fak')\n",
      "('dummy1_021.fak', 'dummy2_021.fak', 'bn121225417_ALP21_bkg.fak')\n",
      "('dummy1_022.fak', 'dummy2_022.fak', 'bn121225417_ALP22_bkg.fak')\n",
      "('dummy1_023.fak', 'dummy2_023.fak', 'bn121225417_ALP23_bkg.fak')\n",
      "('dummy1_024.fak', 'dummy2_024.fak', 'bn121225417_ALP24_bkg.fak')\n",
      "('dummy1_025.fak', 'dummy2_025.fak', 'bn121225417_ALP25_bkg.fak')\n",
      "('dummy1_026.fak', 'dummy2_026.fak', 'bn121225417_ALP26_bkg.fak')\n",
      "('dummy1_027.fak', 'dummy2_027.fak', 'bn121225417_ALP27_bkg.fak')\n",
      "('dummy1_028.fak', 'dummy2_028.fak', 'bn121225417_ALP28_bkg.fak')\n",
      "('dummy1_029.fak', 'dummy2_029.fak', 'bn121225417_ALP29_bkg.fak')\n"
     ]
    }
   ],
   "source": [
    "# normalizations, coarse grid\n",
    "N = np.logspace(np.log10(8.4e-8), np.log10(8.4e2), 30)\n",
    "\n",
    "xs.AllData.clear() \n",
    "\n",
    "# Dummy file (placeholder), format is pha type-II.\n",
    "\n",
    "s1 = xs.Spectrum('bn121225417_LAT-LLE_srcspectra.pha{1}')\n",
    "s1 = xs.AllData(1)\n",
    "s1.response = 'bn121225417_LAT-LLE_weightedrsp.rsp'\n",
    "s1.background = 'bn121225417_LAT-LLE_bkgspectra.bak{1}'\n",
    "\n",
    "# spectrum we want to simulate, the spectral type is pha type-I.\n",
    "\n",
    "for i in range(30):\n",
    "    # spectral files produced with ALP_spectrum_norm.py and flx2xsp.sh\n",
    "    s2 = xs.Spectrum('bn121225417_ALP_xspec_%s.pha' %i) \n",
    "    s2 = xs.AllData(2)\n",
    "    s2.response = 'bn121225417_LAT-LLE_weightedrsp.rsp'\n",
    "    s2.background = 'bn121225417_LAT-LLE_bkgspectra.bak{1}'\n",
    "    \n",
    "    # Providing the input model settings for fakeit, but not fitting \n",
    "    xs.AllModels.clear()\n",
    "    m = xs.Model('ALP')\n",
    "    m.ALP.norm.values = 1.\n",
    "    m.ALP.norm.frozen = True\n",
    "    #List of value floats [val,delta,min,bot,top,max].\n",
    "    m.ALP.norm1.values=[N[i], N[i]*0.01, N[i]*0.1, N[i]*0.95, N[i]*1.05, N[i]*1.9]\n",
    "    m.ALP.norm1.frozen = True\n",
    "    \n",
    "    # Passing the settings\n",
    "    fs1 = xs.FakeitSettings()\n",
    "    fs2 = xs.FakeitSettings()\n",
    "    fs3 = xs.FakeitSettings()\n",
    "    \n",
    "    # Dummy files\n",
    "    fs1.fileName = 'dummy1_0%s.fak' %i\n",
    "    fs2.fileName = 'dummy2_0%s.fak' %i\n",
    "    \n",
    "    # Actual files\n",
    "    fs3.response = 'bn121225417_LAT-LLE_weightedrsp.rsp'\n",
    "    fs3.background = 'bn121225417_LAT-LLE_bkgspectra.bak{1}'\n",
    "    fs3.fileName = 'bn121225417_ALP%s_bkg.fak' %i\n",
    "    \n",
    "    # python list to hold 2000 copies of the fs3 settings\n",
    "    # to go with the 2000 spectra it is making\n",
    "    \n",
    "    FS = [fs3]*2000\n",
    "\n",
    "    # inserting the settings for the loaded spectra at the beginning of the fakeit settings list \n",
    "    FS.insert(0, fs2)\n",
    "    FS.insert(0, fs1)\n",
    "    \n",
    "    print(FS[0].fileName, FS[1].fileName, FS[2].fileName)\n",
    "    xs.AllData.fakeit(len(FS), FS, applyStats=True)"
   ]
  },
  {
   "cell_type": "code",
   "execution_count": null,
   "metadata": {},
   "outputs": [],
   "source": []
  }
 ],
 "metadata": {
  "kernelspec": {
   "display_name": "Python 2",
   "language": "python",
   "name": "python2"
  },
  "language_info": {
   "codemirror_mode": {
    "name": "ipython",
    "version": 2
   },
   "file_extension": ".py",
   "mimetype": "text/x-python",
   "name": "python",
   "nbconvert_exporter": "python",
   "pygments_lexer": "ipython2",
   "version": "2.7.15"
  }
 },
 "nbformat": 4,
 "nbformat_minor": 2
}
