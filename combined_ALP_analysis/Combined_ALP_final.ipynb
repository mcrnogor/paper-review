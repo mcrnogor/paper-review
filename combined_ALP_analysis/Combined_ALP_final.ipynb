{
 "cells": [
  {
   "cell_type": "code",
   "execution_count": 1,
   "metadata": {},
   "outputs": [],
   "source": [
    "#Importing some standard python packages\n",
    "#\n",
    "import matplotlib as mpl\n",
    "import sys\n",
    "import matplotlib.pyplot as plt\n",
    "import numpy as np\n",
    "import xspec as xs"
   ]
  },
  {
   "cell_type": "code",
   "execution_count": 2,
   "metadata": {},
   "outputs": [],
   "source": [
    "# Importing energy arrays observed with GRB 130305A, all given in MeV\n",
    "\n",
    "E_GBM1 = np.load('130305A_GBM1_EMeV.npy')\n",
    "E_GBM2 = np.load('130305A_GBM2_EMeV.npy')\n",
    "E_BGO = np.load('130305A_BGO_EMeV.npy')\n",
    "E_LLE = np.load('130305A_LLE_EMeV.npy')"
   ]
  },
  {
   "cell_type": "code",
   "execution_count": 3,
   "metadata": {},
   "outputs": [
    {
     "name": "stdout",
     "output_type": "stream",
     "text": [
      "[1.10113223e+01 1.32385210e+01 1.59162026e+01 1.91354844e+01\n",
      " 2.30059131e+01 3.07133350e+01 6.37544453e+01 4.61482418e+02\n",
      " 4.20876987e+03 3.83844360e+04 8.45915480e+04]\n"
     ]
    }
   ],
   "source": [
    "# quick check of units\n",
    "print E_LLE"
   ]
  },
  {
   "cell_type": "code",
   "execution_count": 4,
   "metadata": {},
   "outputs": [],
   "source": [
    "# Interpolating the function for the ALP signal to be given to XSPEC (Milena)\n",
    "\n",
    "energy = np.concatenate((E_GBM1, E_GBM2, E_BGO, E_LLE)) # MeV\n",
    "energy = np.unique(np.sort(energy))\n",
    "low_lim = np.int(np.where(E_LLE[0] == energy)[0])\n",
    "\n",
    "sys.path.append('/Users/milena/Desktop/2nd_yr_project/ALPs/ALPs_analysis/') # path to calc_alp_signal script\n",
    "from scipy import integrate\n",
    "from calc_alp_signal import ALPSNSignal\n",
    "\n",
    "alp_sn = ALPSNSignal(Mprog = 10.)\n",
    "ts = np.linspace(0.1,10.,len(energy) + 1)\n",
    "dndedt_alp = alp_sn(energy, ts, g10=0.1)\n",
    "SED = integrate.simps(dndedt_alp, axis=1)/10. # per MeV\n",
    "\n",
    "from scipy.interpolate import interp1d\n",
    "\n",
    "# interpolation attempt (Milena)\n",
    "f = interp1d(energy*1000, SED/1000., 'cubic', fill_value=\"extrapolate\") # in keV and per keV"
   ]
  },
  {
   "cell_type": "code",
   "execution_count": 5,
   "metadata": {},
   "outputs": [],
   "source": [
    "# Interpolating the function for the ALP signal to be given to XSPEC (Manuel)\n",
    "\n",
    "energy_new = np.logspace(np.log10(energy.min()), np.log10(energy.max()), energy.size) # changing the binning of the input energy\n",
    "dndedt_alp_new = alp_sn(energy_new, ts, g10=0.1)\n",
    "sed_new = integrate.simps(dndedt_alp_new, axis=1) / 10. # per MeV\n",
    "m = sed_new == 0\n",
    "sed_new[m] = 1e-40 \n",
    "f_new = interp1d(np.log(energy_new*1000), np.log(sed_new/1000), 'cubic', fill_value='extrapolate') # per keV"
   ]
  },
  {
   "cell_type": "code",
   "execution_count": 6,
   "metadata": {},
   "outputs": [
    {
     "data": {
      "text/plain": [
       "Text(0,0.5,'Flux, /keV')"
      ]
     },
     "execution_count": 6,
     "metadata": {},
     "output_type": "execute_result"
    },
    {
     "data": {
      "image/png": "[encoded data removed]",
      "text/plain": [
       "<Figure size 432x288 with 1 Axes>"
      ]
     },
     "metadata": {
      "needs_background": "light"
     },
     "output_type": "display_data"
    }
   ],
   "source": [
    "# Careful here! f and f_new interpolate in units /keV. So, here you're plotting \n",
    "# x axis in MeV, but your y-axis is in /keV. \n",
    "\n",
    "plt.loglog(energy_new, np.exp(f_new(np.log(energy_new * 1000))), ls='--', label=\"New Interpolation\")\n",
    "plt.loglog(energy, (f(energy*1000)), ls='--', label=\"Old Interpolation\")\n",
    "plt.loglog(energy_new, sed_new/1000, 'k', lw=0.5, label=\"Original ALP signal\")\n",
    "plt.legend()\n",
    "plt.ylim(1e-15, 1e-3)\n",
    "plt.xlabel('Energy, MeV')\n",
    "plt.ylabel('Flux, /keV')"
   ]
  },
  {
   "cell_type": "code",
   "execution_count": 7,
   "metadata": {},
   "outputs": [],
   "source": [
    "# defining the ALP model\n",
    "\n",
    "def ALP(engs, params, flux):\n",
    "    energy_binsizes = np.ediff1d(engs)\n",
    "     # finding the average bin value for energy\n",
    "    energy1 = np.sqrt(np.asarray(engs[:-1]) * np.asarray(engs[1:])) #(np.asarray(engs[:-1])+np.asarray(engs[1:]))/2\n",
    "    flux[:] = np.exp(f_new(np.log(energy1)))* (energy_binsizes) \n",
    "    \n",
    "ALPInfo = ()\n",
    "xs.AllModels.addPyMod(ALP, ALPInfo, 'add', spectrumDependent=False)"
   ]
  },
  {
   "cell_type": "code",
   "execution_count": 8,
   "metadata": {},
   "outputs": [],
   "source": [
    "# loading the data for the GRB\n",
    "\n",
    "xs.AllData.clear()\n",
    "s1 = xs.Spectrum(\"bn130305486_n6_srcspectra.pha{*}\")\n",
    "s1.response = (\"bn130305486_n6_weightedrsp.rsp\")\n",
    "s1.background= (\"bn130305486_n6_bkgspectra.bak{1}\")\n",
    "s2 = xs.Spectrum(\"bn130305486_n9_srcspectra.pha{*}\")\n",
    "s2.response = (\"bn130305486_n9_weightedrsp.rsp\")\n",
    "s2.background= (\"bn130305486_n9_bkgspectra.bak{1}\")\n",
    "s3 = xs.Spectrum(\"bn130305486_b1_srcspectra.pha{*}\")\n",
    "s3.response = (\"bn130305486_b1_weightedrsp.rsp\")\n",
    "s3.background= (\"bn130305486_b1_bkgspectra.bak{1}\")\n",
    "s4 = xs.Spectrum(\"bn130305486_LAT-LLE_srcspectra.pha{*}\")\n",
    "s4.response = (\"bn130305486_LAT-LLE_weightedrsp.rsp\")\n",
    "s4.background= (\"bn130305486_LAT-LLE_bkgspectra.bak{1}\")"
   ]
  },
  {
   "cell_type": "code",
   "execution_count": 9,
   "metadata": {},
   "outputs": [],
   "source": [
    "xs.AllModels.clear()\n",
    "m = xs.Model(\"ALP\")\n",
    "m.ALP.norm.values=1.\n",
    "m.ALP.norm.frozen = True\n",
    "# xs.Fit.perform()"
   ]
  },
  {
   "cell_type": "code",
   "execution_count": 10,
   "metadata": {},
   "outputs": [
    {
     "name": "stdout",
     "output_type": "stream",
     "text": [
      "\n",
      "User entered plot commands:\n"
     ]
    }
   ],
   "source": [
    "xs.Plot.device=\"/xs\"\n",
    "xs.Plot.setRebin(3.0,12)\n",
    "xs.Plot.xAxis=\"MeV\"\n",
    "xs.Plot.add=True\n",
    "xs.Plot.background=False\n",
    "xs.Plot.xLog=True\n",
    "xs.Plot.yLog=True\n",
    "xs.Plot(\"model\")\n",
    "xs.Plot.show()"
   ]
  },
  {
   "cell_type": "code",
   "execution_count": 11,
   "metadata": {},
   "outputs": [
    {
     "data": {
      "text/plain": [
       "1.0"
      ]
     },
     "execution_count": 11,
     "metadata": {},
     "output_type": "execute_result"
    }
   ],
   "source": [
    "# checking if ALP normalization is 1 \n",
    "m.ALP.norm.values[0]"
   ]
  },
  {
   "cell_type": "code",
   "execution_count": 12,
   "metadata": {},
   "outputs": [],
   "source": [
    "xValsA_GBM1 = np.asarray(xs.Plot.x(1))\n",
    "modValsA_GBM1 = np.asarray(xs.Plot.model(1))\n",
    "\n",
    "xValsA_GBM2 = np.asarray(xs.Plot.x(2))\n",
    "modValsA_GBM2 = np.asarray(xs.Plot.model(2))\n",
    "\n",
    "xValsA_BGO = np.asarray(xs.Plot.x(3))\n",
    "modValsA_BGO = np.asarray(xs.Plot.model(3))\n",
    "\n",
    "xValsA_LLE = np.asarray(xs.Plot.x(4))\n",
    "modValsA_LLE = np.asarray(xs.Plot.model(4))"
   ]
  },
  {
   "cell_type": "code",
   "execution_count": 13,
   "metadata": {},
   "outputs": [
    {
     "data": {
      "text/plain": [
       "<matplotlib.legend.Legend at 0x7fd678912b90>"
      ]
     },
     "execution_count": 13,
     "metadata": {},
     "output_type": "execute_result"
    },
    {
     "data": {
      "image/png": "[encoded data removed]",
      "text/plain": [
       "<Figure size 432x288 with 1 Axes>"
      ]
     },
     "metadata": {
      "needs_background": "light"
     },
     "output_type": "display_data"
    }
   ],
   "source": [
    "plt.loglog(xValsA_GBM1, np.asarray(modValsA_GBM1), ls='--',label=\"XSpec-GBM1\") # per MeV\n",
    "plt.loglog(xValsA_GBM1, np.asarray(modValsA_GBM1), ls='--', label=\"XSpec-GBM2\") # per MeV\n",
    "plt.loglog(xValsA_BGO, np.asarray(modValsA_BGO), ls='--', color='r',label=\"XSpec-BGO\") # per MeV\n",
    "plt.loglog(xValsA_LLE, np.asarray(modValsA_LLE), ls='--', color = 'g', label=\"XSpec-LLE\") # per MeV\n",
    "# plt.loglog(energy_new, np.exp(f_new(np.log(energy_new*1000))), ls='-', color = 'k',label=\"New Interpolation\", linewidth = 0.5) # per keV\n",
    "plt.loglog(energy_new, 1000*np.exp(f_new(np.log(energy_new*1000))), ls='-', color = 'k',label=\"New Interpolation\", linewidth = 0.5) # per MeV\n",
    "plt.ylim(1e-15, 1e-1)\n",
    "plt.xlabel('Energy, MeV')\n",
    "plt.ylabel('Flux, /MeV')\n",
    "plt.legend()"
   ]
  },
  {
   "cell_type": "code",
   "execution_count": null,
   "metadata": {},
   "outputs": [],
   "source": []
  }
 ],
 "metadata": {
  "kernelspec": {
   "display_name": "Python 2",
   "language": "python",
   "name": "python2"
  },
  "language_info": {
   "codemirror_mode": {
    "name": "ipython",
    "version": 2
   },
   "file_extension": ".py",
   "mimetype": "text/x-python",
   "name": "python",
   "nbconvert_exporter": "python",
   "pygments_lexer": "ipython2",
   "version": "2.7.15"
  }
 },
 "nbformat": 4,
 "nbformat_minor": 2
}
